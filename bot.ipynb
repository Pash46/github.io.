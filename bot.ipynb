{
  "nbformat": 4,
  "nbformat_minor": 0,
  "metadata": {
    "colab": {
      "name": "Untitled1.ipynb",
      "provenance": [],
      "authorship_tag": "ABX9TyOJG6MEiLOt8cVdtDkLI+jk",
      "include_colab_link": true
    },
    "kernelspec": {
      "name": "python3",
      "display_name": "Python 3"
    },
    "language_info": {
      "name": "python"
    }
  },
  "cells": [
    {
      "cell_type": "markdown",
      "metadata": {
        "id": "view-in-github",
        "colab_type": "text"
      },
      "source": [
        "<a href=\"https://colab.research.google.com/github/Pash46/github.io./blob/Pash46-patch-1/bot.ipynb\" target=\"_parent\"><img src=\"https://colab.research.google.com/assets/colab-badge.svg\" alt=\"Open In Colab\"/></a>"
      ]
    },
    {
      "cell_type": "code",
      "metadata": {
        "colab": {
          "base_uri": "https://localhost:8080/"
        },
        "id": "6mLUxlIWpBRg",
        "outputId": "5af88762-cb6f-4c28-d7bb-240674b890de"
      },
      "source": [
        "pip install COVID19Py"
      ],
      "execution_count": null,
      "outputs": [
        {
          "output_type": "stream",
          "text": [
            "Collecting COVID19Py\n",
            "  Downloading https://files.pythonhosted.org/packages/d2/e5/d8129426769328cc19d939c7ccb9cb774a79de92cb093bec65f3dc81eb75/COVID19Py-0.3.0.tar.gz\n",
            "Building wheels for collected packages: COVID19Py\n",
            "  Building wheel for COVID19Py (setup.py) ... \u001b[?25l\u001b[?25hdone\n",
            "  Created wheel for COVID19Py: filename=COVID19Py-0.3.0-cp37-none-any.whl size=4718 sha256=af7390521ceaf21521b0b8fcf84c5df8ebfb2a1efb4555c50b1f40c8cbd20e9b\n",
            "  Stored in directory: /root/.cache/pip/wheels/23/78/50/78aaca989f422d636b01b9c55cd5e327fef838e973690f886c\n",
            "Successfully built COVID19Py\n",
            "Installing collected packages: COVID19Py\n",
            "Successfully installed COVID19Py-0.3.0\n"
          ],
          "name": "stdout"
        }
      ]
    },
    {
      "cell_type": "code",
      "metadata": {
        "colab": {
          "base_uri": "https://localhost:8080/"
        },
        "id": "Sq4EFLZtpCCz",
        "outputId": "4ed2ac90-7001-4a2a-b92b-0d6561ecb88f"
      },
      "source": [
        "pip install requests\n"
      ],
      "execution_count": null,
      "outputs": [
        {
          "output_type": "stream",
          "text": [
            "Requirement already satisfied: requests in /usr/local/lib/python3.7/dist-packages (2.23.0)\n",
            "Requirement already satisfied: chardet<4,>=3.0.2 in /usr/local/lib/python3.7/dist-packages (from requests) (3.0.4)\n",
            "Requirement already satisfied: urllib3!=1.25.0,!=1.25.1,<1.26,>=1.21.1 in /usr/local/lib/python3.7/dist-packages (from requests) (1.24.3)\n",
            "Requirement already satisfied: certifi>=2017.4.17 in /usr/local/lib/python3.7/dist-packages (from requests) (2020.12.5)\n",
            "Requirement already satisfied: idna<3,>=2.5 in /usr/local/lib/python3.7/dist-packages (from requests) (2.10)\n"
          ],
          "name": "stdout"
        }
      ]
    },
    {
      "cell_type": "code",
      "metadata": {
        "colab": {
          "base_uri": "https://localhost:8080/"
        },
        "id": "CaY985o5pCHh",
        "outputId": "ec9a445a-cd12-4a52-f389-20543af26353"
      },
      "source": [
        "pip install pyTelegramBotAPI"
      ],
      "execution_count": null,
      "outputs": [
        {
          "output_type": "stream",
          "text": [
            "Collecting pyTelegramBotAPI\n",
            "\u001b[?25l  Downloading https://files.pythonhosted.org/packages/21/d4/440ef91bc6154cd72705b7a048a7e2d91ff6af3a379ed39fed9b6f1b214f/pyTelegramBotAPI-3.7.9.tar.gz (90kB)\n",
            "\r\u001b[K     |███▋                            | 10kB 22.0MB/s eta 0:00:01\r\u001b[K     |███████▏                        | 20kB 31.7MB/s eta 0:00:01\r\u001b[K     |██████████▉                     | 30kB 24.7MB/s eta 0:00:01\r\u001b[K     |██████████████▍                 | 40kB 20.3MB/s eta 0:00:01\r\u001b[K     |██████████████████              | 51kB 15.5MB/s eta 0:00:01\r\u001b[K     |█████████████████████▋          | 61kB 12.5MB/s eta 0:00:01\r\u001b[K     |█████████████████████████▏      | 71kB 14.0MB/s eta 0:00:01\r\u001b[K     |████████████████████████████▉   | 81kB 14.9MB/s eta 0:00:01\r\u001b[K     |████████████████████████████████| 92kB 6.2MB/s \n",
            "\u001b[?25hRequirement already satisfied: requests in /usr/local/lib/python3.7/dist-packages (from pyTelegramBotAPI) (2.23.0)\n",
            "Requirement already satisfied: urllib3!=1.25.0,!=1.25.1,<1.26,>=1.21.1 in /usr/local/lib/python3.7/dist-packages (from requests->pyTelegramBotAPI) (1.24.3)\n",
            "Requirement already satisfied: certifi>=2017.4.17 in /usr/local/lib/python3.7/dist-packages (from requests->pyTelegramBotAPI) (2020.12.5)\n",
            "Requirement already satisfied: idna<3,>=2.5 in /usr/local/lib/python3.7/dist-packages (from requests->pyTelegramBotAPI) (2.10)\n",
            "Requirement already satisfied: chardet<4,>=3.0.2 in /usr/local/lib/python3.7/dist-packages (from requests->pyTelegramBotAPI) (3.0.4)\n",
            "Building wheels for collected packages: pyTelegramBotAPI\n",
            "  Building wheel for pyTelegramBotAPI (setup.py) ... \u001b[?25l\u001b[?25hdone\n",
            "  Created wheel for pyTelegramBotAPI: filename=pyTelegramBotAPI-3.7.9-cp37-none-any.whl size=67898 sha256=fe2946546898a98079d7e82d914af882244fd96e84b4bc91398a93506497792f\n",
            "  Stored in directory: /root/.cache/pip/wheels/68/bb/cb/1af3be2487e0e183f3848e9d555acdf4df4628637fab5b9939\n",
            "Successfully built pyTelegramBotAPI\n",
            "Installing collected packages: pyTelegramBotAPI\n",
            "Successfully installed pyTelegramBotAPI-3.7.9\n"
          ],
          "name": "stdout"
        }
      ]
    },
    {
      "cell_type": "code",
      "metadata": {
        "colab": {
          "base_uri": "https://localhost:8080/"
        },
        "id": "qSNAB8sDTCUb",
        "outputId": "ba7cd48b-6cdf-44f7-9be8-a777ca13ee31"
      },
      "source": [
        "pip install call"
      ],
      "execution_count": null,
      "outputs": [
        {
          "output_type": "stream",
          "text": [
            "Collecting call\n",
            "  Downloading https://files.pythonhosted.org/packages/c4/0b/b2ed20d83d3dad385a67821ffa45f8385aad2fbbb1db5b7a56b1a632ec3a/call-0.1.tar.gz\n",
            "Building wheels for collected packages: call\n",
            "  Building wheel for call (setup.py) ... \u001b[?25l\u001b[?25hdone\n",
            "  Created wheel for call: filename=call-0.1-cp37-none-any.whl size=9692 sha256=9b43f1f409dd89144572bf220404fca7e9f02015db8dde08138b6f2b5b7e73b6\n",
            "  Stored in directory: /root/.cache/pip/wheels/6b/2e/a6/13472f0df96f5c25ad21a6a80aa0bee9bcf0064b76a9f1ba05\n",
            "Successfully built call\n",
            "Installing collected packages: call\n",
            "Successfully installed call-0.1\n"
          ],
          "name": "stdout"
        }
      ]
    },
    {
      "cell_type": "code",
      "metadata": {
        "id": "nI-2S_EOpCKa"
      },
      "source": [
        "import COVID19Py\n",
        "import requests\n",
        "import telebot\n",
        "from telebot import types\n",
        "\n",
        "bot = telebot.TeleBot('1878209104:AAEvKZGFO05j-tMTV0Vq8eYHVU_kBtXsjc4')\n",
        "\n",
        "covid19 = COVID19Py.COVID19()\n",
        "\n",
        "@bot.message_handler(commands=['start'])\n",
        "def start(message):\n",
        "    markup = types.ReplyKeyboardMarkup(resize_keyboard=True, row_width=2)\n",
        "    btn1 = types.KeyboardButton(\"Весь мир\")\n",
        "    btn2 = types.KeyboardButton(\"Россия\")\n",
        "    btn3 = types.KeyboardButton(\"Украина\")\n",
        "    btn4 = types.KeyboardButton(\"США\")\n",
        "    markup.add(btn1, btn2, btn3, btn4)\n",
        "                \n",
        "    send_mess = f\"<b>Привет {message.from_user.first_name}!</b>\\nВведите страну\"\n",
        "    bot.send_message(message.chat.id, send_mess, parse_mode='html')\n",
        "# lastest = covid19.getLatest()\n",
        "\n",
        "@bot.message_handler(content_types=['text'])\n",
        "def mess(message):\n",
        "    final_message = \"\"\n",
        "    get_message_bot = message.text.strip().lower()\n",
        "    \n",
        "    if get_message_bot == \"сша\":\n",
        "        location = covid19.getLocationByCountryCode(\"US\")\n",
        "    elif  get_message_bot == \"украина\":\n",
        "          location =  covid19.getLocationByCountryCode(\"UA\")\n",
        "          \"<u>Данные по Украине:</u>\\n<b>Заболевшие: </b>{location['confirmed']}\"\n",
        "    elif  get_message_bot == \"россия\":\n",
        "          location = covid19.getLocationByCountryCode(\"RU\")\n",
        "    else:\n",
        "        location = covid19.getLatest()\n",
        "        final_message = f\"<u>Данные по всему миру:</u>\\n<b>Заболевшие: </b>{location['confirmed']}\"\n",
        "    \n",
        "    if  final_message == \"\":\n",
        "        date = location[0]['last_updated'].split(\"T\")\n",
        "        time = date[1].split(\".\")\n",
        "        final_message = f\"<u>Данные по стране:</u>\\n<b>Население: </b>{location[0] ['country_population']:,}\\n\"\n",
        "        f\"Последнее обновление: {date[0]} {time[0]}:,\\nПоследние данные:\\n<b>\"\n",
        "        f\"Заболевших: </b>{location[0] ['latest'] ['confirmed']:,}/n<b>Cмертей: </b>\"\n",
        "        f\"{location[0] ['latest'] ['deaths']:,}\"\n",
        "    bot.send_message(message.chat.id, final_message, parse_mode='html')\n",
        "\n",
        "\n",
        "\n",
        "#location = covid19.getLocationByCountryCode(\"\")\n",
        "# print(lastest)\n",
        "\n",
        "bot.polling(none_stop=True)"
      ],
      "execution_count": null,
      "outputs": []
    },
    {
      "cell_type": "code",
      "metadata": {
        "id": "XMfKQWvWpCNN",
        "colab": {
          "base_uri": "https://localhost:8080/",
          "height": 231
        },
        "outputId": "89dce954-fef1-45ff-8fbf-fe0f4780536a"
      },
      "source": [
        "\n",
        "\n",
        "\n",
        "import COVID19Py\n",
        "import requests\n",
        "import telebot\n",
        "from telebot import types\n",
        "\n",
        "bot = telebot.TeleBot('1878209104:AAEvKZGFO05j-tMTV0Vq8eYHVU_kBtXsjc4')\n",
        "\n",
        "covid19 = COVID19Py.COVID19()\n",
        "\n",
        "@bot.message_handler(commands=['start'])\n",
        "def start(message):\n",
        "    markup = types.ReplyKeyboardMarkup(resize_keyboard=True, row_width=2)\n",
        "    btn1 = types.KeyboardButton(\"Весь мир\")\n",
        "    btn2 = types.KeyboardButton(\"Россия\")\n",
        "    btn3 = types.KeyboardButton(\"Украина\")\n",
        "    btn4 = types.KeyboardButton(\"США\")\n",
        "    markup.add(btn1, btn2, btn3, btn4)\n",
        "                \n",
        "    send_mess = f\"<b>Привет, {message.from_user.first_name}!</b>\\nВведите страну\"\n",
        "    bot.send_message(message.chat.id, send_mess, parse_mode='html')\n",
        "# lastest = covid19.getLatest()\n",
        "\n",
        "@bot.message_handler(content_types=['text'])\n",
        "def mess(message):\n",
        "    final_message = \"\"\n",
        "    get_message_bot = message.text.strip().lower()\n",
        "    \n",
        "if get_message_bot == \"сша\":\n",
        "        location = covid19.getLocationByCountryCode(\"US\")\n",
        "elif  get_message_bot == \"украина\":\n",
        "           location =  covid19.getLocationByCountryCode(\"UA\") \n",
        "           bot.send_message(message.from_user.id,  'f\"Заболевшие: {location[`confirmed`}\"')\n",
        "\n",
        "         \n",
        "elif  get_message_bot == \"россия\":\n",
        "          location = covid19.getLocationByCountryCode(\"RU\")\n",
        "else:\n",
        "        location = covid19.getLatest()\n",
        "        final_message = f\"<u>Данные по всему миру:</u>\\n<b>Заболевшие: </b>{location['confirmed']}\"\n",
        "    \n",
        "if  final_message == \"\":\n",
        "        date = location[0]['last_updated'].split(\"T\")\n",
        "        time = date[1].split(\".\")\n",
        "        final_message = f\"<u>Данные по стране:</u>\\n<b>Население: </b>{location[0] ['country_population']:,}\\n\"\n",
        "        f\"Последнее обновление: {date[0]} {time[0]}:,\\nПоследние данные:\\n<b>\"\n",
        "        f\"Заболевших: </b>{location[0] ['latest'] ['confirmed']:,}/n<b>Cмертей: </b>\"\n",
        "        f\"{location[0] ['latest'] ['deaths']:,}\"\n",
        "        bot.send_message(message.chat.id, final_message, parse_mode='html')\n",
        "\n",
        "# bot.polling(none_stop=True)\n",
        "\n",
        "bot.infinity_polling()\n",
        "\n",
        "#location = covid19.getLocationByCountryCode(\"\")\n",
        "# print(lastest)\n",
        "\n"
      ],
      "execution_count": null,
      "outputs": [
        {
          "output_type": "error",
          "ename": "NameError",
          "evalue": "ignored",
          "traceback": [
            "\u001b[0;31m---------------------------------------------------------------------------\u001b[0m",
            "\u001b[0;31mNameError\u001b[0m                                 Traceback (most recent call last)",
            "\u001b[0;32m<ipython-input-77-aa68a344178e>\u001b[0m in \u001b[0;36m<module>\u001b[0;34m()\u001b[0m\n\u001b[1;32m     29\u001b[0m     \u001b[0mget_message_bot\u001b[0m \u001b[0;34m=\u001b[0m \u001b[0mmessage\u001b[0m\u001b[0;34m.\u001b[0m\u001b[0mtext\u001b[0m\u001b[0;34m.\u001b[0m\u001b[0mstrip\u001b[0m\u001b[0;34m(\u001b[0m\u001b[0;34m)\u001b[0m\u001b[0;34m.\u001b[0m\u001b[0mlower\u001b[0m\u001b[0;34m(\u001b[0m\u001b[0;34m)\u001b[0m\u001b[0;34m\u001b[0m\u001b[0;34m\u001b[0m\u001b[0m\n\u001b[1;32m     30\u001b[0m \u001b[0;34m\u001b[0m\u001b[0m\n\u001b[0;32m---> 31\u001b[0;31m \u001b[0;32mif\u001b[0m \u001b[0mget_message_bot\u001b[0m \u001b[0;34m==\u001b[0m \u001b[0;34m\"сша\"\u001b[0m\u001b[0;34m:\u001b[0m\u001b[0;34m\u001b[0m\u001b[0;34m\u001b[0m\u001b[0m\n\u001b[0m\u001b[1;32m     32\u001b[0m         \u001b[0mlocation\u001b[0m \u001b[0;34m=\u001b[0m \u001b[0mcovid19\u001b[0m\u001b[0;34m.\u001b[0m\u001b[0mgetLocationByCountryCode\u001b[0m\u001b[0;34m(\u001b[0m\u001b[0;34m\"US\"\u001b[0m\u001b[0;34m)\u001b[0m\u001b[0;34m\u001b[0m\u001b[0;34m\u001b[0m\u001b[0m\n\u001b[1;32m     33\u001b[0m \u001b[0;32melif\u001b[0m  \u001b[0mget_message_bot\u001b[0m \u001b[0;34m==\u001b[0m \u001b[0;34m\"украина\"\u001b[0m\u001b[0;34m:\u001b[0m\u001b[0;34m\u001b[0m\u001b[0;34m\u001b[0m\u001b[0m\n",
            "\u001b[0;31mNameError\u001b[0m: name 'get_message_bot' is not defined"
          ]
        }
      ]
    },
    {
      "cell_type": "code",
      "metadata": {
        "id": "_XSK_ixIpCQC",
        "colab": {
          "base_uri": "https://localhost:8080/"
        },
        "outputId": "4370a8e8-3a75-4eb5-af1e-1fd5d190bfb6"
      },
      "source": [
        "\n",
        "\n",
        "\n",
        "import COVID19Py\n",
        "import requests\n",
        "import telebot\n",
        "from telebot import types\n",
        "\n",
        "bot = telebot.TeleBot('1878209104:AAEvKZGFO05j-tMTV0Vq8eYHVU_kBtXsjc4')\n",
        "\n",
        "covid19 = COVID19Py.COVID19()\n",
        "\n",
        "@bot.message_handler(commands=['start'])\n",
        "def start(message):\n",
        "    markup = types.ReplyKeyboardMarkup(resize_keyboard=True, row_width=2)\n",
        "    btn1 = types.KeyboardButton(\"Весь мир\")\n",
        "    btn2 = types.KeyboardButton(\"Россия\")\n",
        "    btn3 = types.KeyboardButton(\"Украина\")\n",
        "    btn4 = types.KeyboardButton(\"США\")\n",
        "    markup.add(btn1, btn2, btn3, btn4)\n",
        "                \n",
        "    send_mess = f\"<b>Привет, {message.from_user.first_name}!</b>\\nВведите страну\"\n",
        "    bot.send_message(message.chat.id, send_mess, parse_mode='html')\n",
        "# lastest = covid19.getLatest()\n",
        "\n",
        "@bot.message_handler(content_types=['text'])\n",
        "def mess(message):\n",
        "    final_message = \"\"\n",
        "    get_message_bot = message.text.strip().lower()\n",
        "    \n",
        "    if get_message_bot == \"сша\":\n",
        "        location = covid19.getLocationByCountryCode(\"US\")\n",
        "    elif  get_message_bot == \"украина\":\n",
        "        location =  covid19.getLocationByCountryCode(\"UA\") \n",
        "        bot.send_message(message.from_user.id,  f\"Заболевшие:  {location['confirmed']}\")\n",
        "\n",
        "\n",
        "    elif  get_message_bot == \"россия\":\n",
        "        location = covid19.getLocationByCountryCode(\"RU\")\n",
        "    else:\n",
        "        location = covid19.getLatest()\n",
        "        final_message = f\"<u>Данные по всему миру:</u>\\n<b>Заболевшие: </b>{location['confirmed']}\"\n",
        "    \n",
        "    if  final_message == \"\":\n",
        "        date = location[0]['last_updated'].split(\"T\")\n",
        "        time = date[1].split(\".\")\n",
        "        final_message = f\"<u>Данные по стране:</u>\\n<b>Население: </b>{location[0] ['country_population']:,}\\n\"\n",
        "        f\"Последнее обновление: {date[0]} {time[0]}:,\\nПоследние данные:\\n<b>\"\n",
        "        f\"Заболевших: </b>{location[0] ['latest'] ['confirmed']:,}/n<b>Cмертей: </b>\"\n",
        "        f\"{location[0] ['latest'] ['deaths']:,}\"\n",
        "        bot.send_message(message.chat.id, final_message, parse_mode='html')\n",
        "\n",
        "# bot.polling(none_stop=True)\n",
        "\n",
        "bot.infinity_polling()\n",
        "\n",
        "#location = covid19.getLocationByCountryCode(\"\")\n",
        "# print(lastest)\n"
      ],
      "execution_count": null,
      "outputs": [
        {
          "output_type": "stream",
          "text": [
            "2021-05-23 17:37:12,589 (__init__.py:495 MainThread) ERROR - TeleBot: \"Infinity polling: polling exited\"\n",
            "2021-05-23 17:37:12,591 (__init__.py:497 MainThread) ERROR - TeleBot: \"Break infinity polling\"\n"
          ],
          "name": "stderr"
        }
      ]
    },
    {
      "cell_type": "code",
      "metadata": {
        "id": "MGysvcsspCTB"
      },
      "source": [
        "\n",
        "\n",
        "\n",
        "import COVID19Py\n",
        "import requests\n",
        "import telebot\n",
        "from telebot import types\n",
        "\n",
        "\n",
        "bot = telebot.TeleBot('1878209104:AAEvKZGFO05j-tMTV0Vq8eYHVU_kBtXsjc4')\n",
        "\n",
        "covid19 = COVID19Py.COVID19()\n",
        "\n",
        "\n",
        "\n",
        "   \n",
        "    # send_mess = f\"<b>Привет, {message.from_user.first_name}!</b>\\nВведите страну\"\n",
        "    # bot.send_message(message.chat.id, send_mess, parse_mode='html')\n",
        "# lastest = covid19.getLatest()\n",
        "@bot.message_handler(commands=['start'])\n",
        "def start(message):\n",
        "    markup = types.ReplyKeyboardMarkup(resize_keyboard=True, row_width=2)\n",
        "    btn1 = types.KeyboardButton(\"Весь мир\")\n",
        "    btn2 = types.KeyboardButton(\"Россия\")\n",
        "    btn3 = types.KeyboardButton(\"Украина\")\n",
        "    btn4 = types.KeyboardButton(\"США\")\n",
        "    markup.add(btn1, btn2, btn3, btn4)\n",
        "                \n",
        "    send_mess = f\"<b>Привет, {message.from_user.first_name}!</b>\\nВведите страну\"\n",
        "    bot.send_message(message.chat.id, send_mess, parse_mode='html')\n",
        "# lastest = covid19.getLatest()\n",
        "@bot.message_handler(content_types=['text'])\n",
        "def mess(message):\n",
        "    final_message = \"\"\n",
        "    get_message_bot = message.text.strip().lower()\n",
        "    \n",
        "    if get_message_bot == \"сша\":\n",
        "        location = covid19.getLocationByCountryCode(\"US\")\n",
        "        send =  f\"Заболевших:  {location[0] ['latest'] ['confirmed']:,}  Cмертей: \"        f\"{location[0] ['latest'] ['deaths']:,}\"\n",
        "        bot.send_message(message.from_user.id,   send )\n",
        "    elif  get_message_bot == \"украина\":\n",
        "        location =  covid19.getLocationByCountryCode(\"UA\") \n",
        "        # send = char(\"Заболевшие: \" +  f\"{location['confirmed']}\")\n",
        "        send =  f\"Заболевших:  {location[0] ['latest'] ['confirmed']:,}  Cмертей: \"        f\"{location[0] ['latest'] ['deaths']:,}\"\n",
        "        bot.send_message(message.from_user.id,   send )\n",
        "        \n",
        "\n",
        "\n",
        "    elif  get_message_bot == \"россия\":\n",
        "        location = covid19.getLocationByCountryCode(\"RU\")\n",
        "        send =  f\"Заболевших:  {location[0] ['latest'] ['confirmed']:,}  Cмертей: \"        f\"{location[0] ['latest'] ['deaths']:,}\"\n",
        "        bot.send_message(message.from_user.id,   send )\n",
        "    else:\n",
        "        location = covid19.getLatest()\n",
        "        final_message = f\"<u>Данные по всему миру:</u>\\n<b>Заболевшие: </b>{location['confirmed']}\"\n",
        "    \n",
        "    if  final_message == \"\":\n",
        "        date = location[0]['last_updated'].split(\"T\")\n",
        "        time = date[1].split(\".\")\n",
        "        final_message = f\"<u>Данные по стране:</u>\\n<b>Население: </b>{location[0] ['country_population']:,}\\n\"\n",
        "        f\"Последнее обновление: {date[0]} {time[0]}:,\\nПоследние данные:\\n<b>\"\n",
        "        f\"Заболевших: </b>{location[0] ['latest'] ['confirmed']:,}/n<b>Cмертей: </b>\"\n",
        "        f\"{location[0] ['latest'] ['deaths']:,}\"\n",
        "        bot.send_message(message.chat.id, final_message, parse_mode='html')\n",
        "\n",
        "# bot.polling(none_stop=True)\n",
        "\n",
        "bot.infinity_polling()\n",
        "\n",
        "#location = covid19.getLocationByCountryCode(\"\")\n",
        "# print(lastest)\n"
      ],
      "execution_count": null,
      "outputs": []
    },
    {
      "cell_type": "code",
      "metadata": {
        "id": "pGiCU1FzpCWV",
        "colab": {
          "base_uri": "https://localhost:8080/",
          "height": 129
        },
        "outputId": "35c69015-dfb1-4c80-a20e-f22cf6ce781b"
      },
      "source": [
        ""
      ],
      "execution_count": null,
      "outputs": [
        {
          "output_type": "error",
          "ename": "SyntaxError",
          "evalue": "ignored",
          "traceback": [
            "\u001b[0;36m  File \u001b[0;32m\"<ipython-input-48-fcfb73037a25>\"\u001b[0;36m, line \u001b[0;32m1\u001b[0m\n\u001b[0;31m    $ heroku login\u001b[0m\n\u001b[0m    ^\u001b[0m\n\u001b[0;31mSyntaxError\u001b[0m\u001b[0;31m:\u001b[0m invalid syntax\n"
          ]
        }
      ]
    },
    {
      "cell_type": "code",
      "metadata": {
        "id": "2z9nmSljpCZH"
      },
      "source": [
        ""
      ],
      "execution_count": null,
      "outputs": []
    },
    {
      "cell_type": "code",
      "metadata": {
        "id": "nxKNSZ5hpCbz"
      },
      "source": [
        ""
      ],
      "execution_count": null,
      "outputs": []
    }
  ]
}